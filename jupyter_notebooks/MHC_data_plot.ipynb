{
 "cells": [
  {
   "cell_type": "code",
   "execution_count": null,
   "metadata": {},
   "outputs": [],
   "source": [
    "import os\n",
    "import numpy as np\n",
    "import pandas as pd\n",
    "import seaborn as sns\n",
    "from matplotlib import pyplot as plt"
   ]
  },
  {
   "cell_type": "code",
   "execution_count": null,
   "metadata": {},
   "outputs": [],
   "source": [
    "\"\"\"\n",
    "Description: Obtains the raw MHC ssv files and presents them as pandas dataframes.\n",
    "             Each dataframe is sorted by 'score' (a metric to rank each peptide's MHC binding association).\n",
    "Returns: A list of pandas dataframe objects, each representing a ssv file.\n",
    "\"\"\"\n",
    "def get_raw_data():\n",
    "    # Current Working Directory: ./20.440-term-project/jupyter_notebooks\n",
    "    data_path = os.path.realpath('..')\n",
    "    for child_dir in ['raw_data','MHC_data']:\n",
    "        data_path = os.path.join(data_path, child_dir)\n",
    "    \n",
    "    dataframes = []\n",
    "    for file in os.listdir(data_path):\n",
    "        if file[-3:] != 'ssv':\n",
    "            continue\n",
    "        ssv_path = os.path.join(data_path,file)\n",
    "        dataframes.append((pd.read_csv(ssv_path, sep=';'),file[:5]))\n",
    "    \n",
    "    return dataframes"
   ]
  },
  {
   "cell_type": "code",
   "execution_count": null,
   "metadata": {},
   "outputs": [],
   "source": [
    "\"\"\"\n",
    "Description: Produces a figure showing the total intensity of each peptide\n",
    "             and the relative rankings of each peptide.\n",
    "Params:\n",
    "    - dataframe: pandas dataframe containing raw MHC ssv file data\n",
    "    - tag: elution information\n",
    "    - file_name: name under which the file will be saved\n",
    "    - sort: field by which the data will be sorted on the x-axis\n",
    "            (in ascending order)\n",
    "Returns: Figure showing peptide intensities.\n",
    "\"\"\"\n",
    "def peptide_lineplot(dataframe, tag, file_name, sort='totalIntensity'):\n",
    "    fig, ax = plt.subplots(figsize=(5, 5))\n",
    "    df = dataframe.sort_values(sort)[['totalIntensity', 'sequence']]\n",
    "    df['log(totalIntensity)'] = np.log(df['totalIntensity'])\n",
    "    df['rank'] = range(len(dataframe))\n",
    "    \n",
    "    sns.lineplot(x='rank', y='log(totalIntensity)', data=df)\n",
    "    ax.set_title('Peptide Binding Intensities for HLA-'\n",
    "                 + tag[0] + ' (' + tag[1:3] + ':' + tag[3:] + ')',\n",
    "                 size='13')\n",
    "    ax.set(ylabel='Total Intensity (log_10)', xlabel='Peptide Rank')\n",
    "    sns.set(style='whitegrid')\n",
    "    \n",
    "    plt.tight_layout()\n",
    "    figure_path = os.path.realpath('..')\n",
    "    for new_dir in ['figures','MHC_visualization']:\n",
    "        figure_path = os.path.join(figure_path,new_dir)\n",
    "        if not os.path.exists(figure_path):\n",
    "            os.mkdir(figure_path)\n",
    "    \n",
    "    fig.savefig(os.path.join(figure_path,file_name), dpi=300)\n",
    "    plt.close()"
   ]
  },
  {
   "cell_type": "code",
   "execution_count": null,
   "metadata": {},
   "outputs": [],
   "source": [
    "allele_dataframes = get_raw_data()"
   ]
  },
  {
   "cell_type": "code",
   "execution_count": null,
   "metadata": {},
   "outputs": [],
   "source": [
    "for i in range(len(allele_dataframes)):\n",
    "    frame, tag = allele_dataframes[i]\n",
    "    peptide_lineplot(frame, tag, 'Peptide Binding Intensities (' + tag + ').png')"
   ]
  },
  {
   "cell_type": "code",
   "execution_count": null,
   "metadata": {},
   "outputs": [],
   "source": []
  }
 ],
 "metadata": {
  "kernelspec": {
   "display_name": "Python 3",
   "language": "python",
   "name": "python3"
  },
  "language_info": {
   "codemirror_mode": {
    "name": "ipython",
    "version": 3
   },
   "file_extension": ".py",
   "mimetype": "text/x-python",
   "name": "python",
   "nbconvert_exporter": "python",
   "pygments_lexer": "ipython3",
   "version": "3.7.4"
  }
 },
 "nbformat": 4,
 "nbformat_minor": 2
}
